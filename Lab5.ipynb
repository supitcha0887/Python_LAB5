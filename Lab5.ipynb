{
  "nbformat": 4,
  "nbformat_minor": 0,
  "metadata": {
    "colab": {
      "provenance": [],
      "include_colab_link": true
    },
    "kernelspec": {
      "name": "python3",
      "display_name": "Python 3"
    },
    "language_info": {
      "name": "python"
    }
  },
  "cells": [
    {
      "cell_type": "markdown",
      "metadata": {
        "id": "view-in-github",
        "colab_type": "text"
      },
      "source": [
        "<a href=\"https://colab.research.google.com/github/supitcha0887/Python_LAB5/blob/main/Lab5.ipynb\" target=\"_parent\"><img src=\"https://colab.research.google.com/assets/colab-badge.svg\" alt=\"Open In Colab\"/></a>"
      ]
    },
    {
      "cell_type": "markdown",
      "source": [
        "รหัสนักศึกษา : 66015xxx ชื่อ :"
      ],
      "metadata": {
        "id": "ayuUhdui4PbN"
      }
    },
    {
      "cell_type": "code",
      "source": [
        "print(\"รหัสนักศึกษา : 67015188 ชื่อ: นส.สุพิชชา อิ่มทองใบ\")"
      ],
      "metadata": {
        "id": "SUBQWSTR1JUZ",
        "colab": {
          "base_uri": "https://localhost:8080/"
        },
        "outputId": "2ad9a0e3-0946-4c4d-c044-dc906c1b8978"
      },
      "execution_count": 21,
      "outputs": [
        {
          "output_type": "stream",
          "name": "stdout",
          "text": [
            "รหัสนักศึกษา : 67015188 ชื่อ: นส.สุพิชชา อิ่มทองใบ\n"
          ]
        }
      ]
    },
    {
      "cell_type": "markdown",
      "source": [
        "Exercise 5.1 ให้เขียน function ชื่อ day_of_year(day, month ,year) โดยมีการคืนค่า คือ day_of_years เป็นวันที่ลำดับที่เท่าใดของปีคริสตศักราช year\n",
        "ปีที่เป็น Leap Year เดือนกุมภาพันธ์จะมี 29 วัน\n",
        "ให้สร้างฟังก์ชัน is_leap เพื่อตรวจสอบ leap year แยกออกมา และให้ฟังก์ชัน day_of_year เรียกใช้ is_leap อีกที\n"
      ],
      "metadata": {
        "id": "ZXM4rXQB6Q9o"
      }
    },
    {
      "cell_type": "code",
      "source": [
        "days_in_month = [31, 28, 31, 30, 31, 30, 31, 31, 30, 31, 30, 31]\n",
        "def is_leap(year):\n",
        "  if year % 4 ==0:\n",
        "    if year %100 == 0:\n",
        "      if year %400 == 0:\n",
        "        return True\n",
        "      else:\n",
        "        return False\n",
        "    else:\n",
        "      return True\n",
        "  else:\n",
        "    return False\n",
        "def day_of_year(day, month, year):\n",
        "  if is_leap(year):\n",
        "    days_in_month[1] = 29\n",
        "  else:\n",
        "    days_in_month[1] = 28\n",
        "  day_of_year = sum(days_in_month[:month-1])+day\n",
        "  return day_of_year\n",
        "# Testcases\n",
        "print(\"Normal year (2023):\")\n",
        "print(f\"1 Jan 2023: {day_of_year(1, 1, 2023)}\")  # ควรได้ 1\n",
        "print(f\"1 Feb 2023: {day_of_year(1, 2, 2023)}\")  # ควรได้ 32\n",
        "print(f\"1 Mar 2023: {day_of_year(1, 3, 2023)}\")  # ควรได้ 60\n",
        "print(f\"31 Dec 2023: {day_of_year(31, 12, 2023)}\")  # ควรได้ 365\n",
        "\n",
        "print(\"\\nLeap year (2024):\")\n",
        "print(f\"1 Jan 2024: {day_of_year(1, 1, 2024)}\")  # ควรได้ 1\n",
        "print(f\"29 Feb 2024: {day_of_year(29, 2, 2024)}\")  # ควรได้ 60\n",
        "print(f\"1 Mar 2024: {day_of_year(1, 3, 2024)}\")  # ควรได้ 61\n",
        "print(f\"31 Dec 2024: {day_of_year(31, 12, 2024)}\")  # ควรได้ 366\n",
        "\n",
        "print(\"\\nCentury year, not a leap year (1900):\")\n",
        "print(f\"1 Mar 1900: {day_of_year(1, 3, 1900)}\")  # ควรได้ 60\n",
        "\n",
        "print(\"\\nCentury year, leap year (2000):\")\n",
        "print(f\"1 Mar 2000: {day_of_year(1, 3, 2000)}\")  # ควรได้ 61\n",
        "\n",
        "print(\"\\nMid-year dates:\")\n",
        "print(f\"15 Jun 2023: {day_of_year(15, 6, 2023)}\")  # ควรได้ 166\n",
        "print(f\"15 Jun 2024: {day_of_year(15, 6, 2024)}\")  # ควรได้ 167 (Leap year)\n",
        "\n",
        "print(\"\\nLast day of each quarter:\")\n",
        "print(f\"31 Mar 2023: {day_of_year(31, 3, 2023)}\")  # ควรได้ 90\n",
        "print(f\"30 Jun 2023: {day_of_year(30, 6, 2023)}\")  # ควรได้ 18\n",
        "print(f\"30 Sep 2023: {day_of_year(30, 9, 2023)}\")  # ควรได้ 273\n",
        "print(f\"31 Dec 2023: {day_of_year(31, 12, 2023)}\")  # ควรได้ 365"
      ],
      "metadata": {
        "id": "oerlrWw46aJZ",
        "outputId": "975574ee-0b87-444f-bd48-045cf21782ff",
        "colab": {
          "base_uri": "https://localhost:8080/"
        }
      },
      "execution_count": null,
      "outputs": [
        {
          "output_type": "stream",
          "name": "stdout",
          "text": [
            "Normal year (2023):\n",
            "1 Jan 2023: 1\n",
            "1 Feb 2023: 32\n",
            "1 Mar 2023: 60\n",
            "31 Dec 2023: 365\n",
            "\n",
            "Leap year (2024):\n",
            "1 Jan 2024: 1\n",
            "29 Feb 2024: 60\n",
            "1 Mar 2024: 61\n",
            "31 Dec 2024: 366\n",
            "\n",
            "Century year, not a leap year (1900):\n",
            "1 Mar 1900: 60\n",
            "\n",
            "Century year, leap year (2000):\n",
            "1 Mar 2000: 61\n",
            "\n",
            "Mid-year dates:\n",
            "15 Jun 2023: 166\n",
            "15 Jun 2024: 167\n",
            "\n",
            "Last day of each quarter:\n",
            "31 Mar 2023: 90\n",
            "30 Jun 2023: 181\n",
            "30 Sep 2023: 273\n",
            "31 Dec 2023: 365\n"
          ]
        }
      ]
    },
    {
      "cell_type": "markdown",
      "source": [
        "Exercise 5.2 ให้เขียนฟังก์ชัน เพิ่มเติมเป็น date_diff\n",
        "รับข้อมูลในรูปแบบ “dd-mm-yyyy” เช่น date_diff(“1-1-2018”, “1-1-2020”) จะได้ 731 วัน date_diff(“25-12-1999”, “9-3-2000”) จะได้ 76 วัน\n",
        "ให้เขียนฟังก์ชัน day_in_year โดยจะส่งค่าจำนวนวันของปี (365 หรือ 366) โดยรับข้อมูลเป็น ปี\n",
        "ส่งคืนข้อมูลเป็นจำนวนวันตั้งแต่วันที่แรก จนถึงวันที่สอง โดยรวมทั้ง 2 วันนั้นเข้าไปด้วย\n",
        "ให้สมมติว่าวันแรก จะต้องมาก่อนวันที่สองเสมอ ดังนั้นไม่ต้องตรวจสอบ\n"
      ],
      "metadata": {
        "id": "fkkuNcAcCo-z"
      }
    },
    {
      "cell_type": "code",
      "source": [
        "def is_leap(year):\n",
        "    if year % 4 == 0:\n",
        "        if year % 100 == 0:\n",
        "            if year % 400 == 0:\n",
        "                return True\n",
        "            else:\n",
        "                return False\n",
        "        else:\n",
        "            return True\n",
        "    else:\n",
        "        return False\n",
        "\n",
        "\n",
        "def day_in_year(year):\n",
        "    if is_leap(year):\n",
        "        return 366\n",
        "    else:\n",
        "        return 365\n",
        "\n",
        "\n",
        "def day_of_year(day, month, year):\n",
        "    days_in_month = [31, 28, 31, 30, 31, 30, 31, 31, 30, 31, 30, 31]\n",
        "    if is_leap(year):\n",
        "        days_in_month[1] = 29\n",
        "\n",
        "    day_of_year = sum(days_in_month[:month - 1]) + day\n",
        "    return day_of_year\n",
        "\n",
        "\n",
        "def date_diff(date1, date2):\n",
        "    splited_date1 = date1.split(\"-\")\n",
        "    year1 = int(splited_date1[2])\n",
        "    month1 = int(splited_date1[1])\n",
        "    day1 = int(splited_date1[0])\n",
        "\n",
        "    splited_date2 = date2.split(\"-\")\n",
        "    year2 = int(splited_date2[2])\n",
        "    month2 = int(splited_date2[1])\n",
        "    day2 = int(splited_date2[0])\n",
        "\n",
        "    years = []\n",
        "    for year in range(year1 + 1, year2):\n",
        "        years.append(year)\n",
        "\n",
        "    total_date_by_year = []\n",
        "    for year in years:\n",
        "        total_date_by_year.append(\n",
        "            day_in_year(year)\n",
        "        )\n",
        "\n",
        "    if year2 - year1 > 0:\n",
        "        rank_of_endyear1 = day_of_year(day=31, month=12, year=year1)\n",
        "        rank_of_date1 = day_of_year(day=day1, month=month1, year=year1)\n",
        "        total_date_by_year.append(rank_of_endyear1 - rank_of_date1 + 1)\n",
        "        rank_of_date2 = day_of_year(day=day2, month=month2, year=year2)\n",
        "        total_date_by_year.append(rank_of_date2)\n",
        "    else:\n",
        "        rank_of_date1 = day_of_year(day=day1, month=month1, year=year1)\n",
        "        rank_of_date2 = day_of_year(day=day2, month=month2, year=year2)\n",
        "        total_date_by_year.append(rank_of_date2 - rank_of_date1 + 1)\n",
        "    print(f\"{date1} to {date2}: {sum(total_date_by_year)}\")\n",
        "\n",
        "\n",
        "date_diff(\"25-12-1999\", \"9-3-2000\")  # ควรได้ 76\n",
        "date_diff(\"1-1-2000\", \"1-1-2001\")  # ควรได้ 367 (ปี 2000 เป็น leap year)\n",
        "date_diff(\"1-1-2001\", \"1-1-2002\")  # ควรได้ 366 (ปี 2001 ไม่ใช่ leap year)\n",
        "date_diff(\"1-3-2000\", \"1-3-2001\")  # ควรได้ 367 (ข้ามปี leap year)\n",
        "date_diff(\"1-1-2023\", \"31-12-2023\")  # ควรได้ 365 (ทั้งปี 2023)"
      ],
      "metadata": {
        "id": "dwNIkw0wDRjF",
        "outputId": "6a81aa11-dd05-4668-f76d-d22d5ba5379b",
        "colab": {
          "base_uri": "https://localhost:8080/"
        }
      },
      "execution_count": null,
      "outputs": [
        {
          "output_type": "stream",
          "name": "stdout",
          "text": [
            "25-12-1999 to 9-3-2000: 76\n",
            "1-1-2000 to 1-1-2001: 367\n",
            "1-1-2001 to 1-1-2002: 366\n",
            "1-3-2000 to 1-3-2001: 366\n",
            "1-1-2023 to 31-12-2023: 365\n"
          ]
        }
      ]
    },
    {
      "cell_type": "markdown",
      "source": [
        "Exercise 5.3 จากโปรแกรม 5.2 ให้เขียนฟังก์ชัน date_diff  เพิ่มเติม โดยให้มีการตรวจสอบ\n",
        "วันที่ต้องเป็นวันที่ถูกต้องของเดือนนั้นๆ\n",
        "เดือนต้องอยู่ระหว่าง 1-12\n",
        "เดือนกุมภาพันธ์ของปีที่มี Leap Year เท่านั้นที่จะมี 29 วันได้\n",
        "หากข้อมูล Input ผิดพลาด ให้ Return -1\n"
      ],
      "metadata": {
        "id": "JU8jQcg4WDoF"
      }
    },
    {
      "cell_type": "code",
      "source": [
        "def is_leap(year):\n",
        "    if year % 4 == 0:\n",
        "        if year % 100 == 0:\n",
        "            if year % 400 == 0:\n",
        "                return True\n",
        "            else:\n",
        "                return False\n",
        "        else:\n",
        "            return True\n",
        "    else:\n",
        "        return False\n",
        "\n",
        "def day_in_year(year):\n",
        "    if is_leap(year):\n",
        "        return 366\n",
        "    else:\n",
        "        return 365\n",
        "\n",
        "def days_in_month(month, year):\n",
        "    days = [31, 28, 31, 30, 31, 30, 31, 31, 30, 31, 30, 31]\n",
        "    if is_leap(year):\n",
        "        days[1] = 29\n",
        "    return days[month - 1]\n",
        "\n",
        "def day_of_year(day, month, year):\n",
        "    if month < 1 or month > 12:\n",
        "        return -1\n",
        "    if day < 1 or day > days_in_month(month, year):\n",
        "        return -1\n",
        "    day_of_year = sum(days_in_month(m, year) for m in range(1, month)) + day\n",
        "    return day_of_year\n",
        "\n",
        "def date_diff(date1, date2):\n",
        "    splited_date1 = date1.split(\"-\")\n",
        "    splited_date2 = date2.split(\"-\")\n",
        "\n",
        "    if len(splited_date1) != 3 or len(splited_date2) != 3:\n",
        "        return -1\n",
        "\n",
        "    day1, month1, year1 = map(int, splited_date1)\n",
        "    day2, month2, year2 = map(int, splited_date2)\n",
        "\n",
        "    if day_of_year(day1, month1, year1) == -1 or day_of_year(day2, month2, year2) == -1:\n",
        "        return -1\n",
        "\n",
        "    if (year1 > year2) or (year1 == year2 and day_of_year(day1, month1, year1) > day_of_year(day2, month2, year2)):\n",
        "        date1, date2 = date2, date1\n",
        "        day1, month1, year1 = day2, month2, year2\n",
        "        day2, month2, year2 = map(int, splited_date1)\n",
        "\n",
        "    years = list(range(year1 + 1, year2))\n",
        "    total_date_by_year = [day_in_year(year) for year in years]\n",
        "\n",
        "    if year2 - year1 > 0:\n",
        "        rank_of_endyear1 = day_of_year(31, 12, year1)\n",
        "        rank_of_date1 = day_of_year(day1, month1, year1)\n",
        "        total_date_by_year.append(rank_of_endyear1 - rank_of_date1 + 1)\n",
        "        rank_of_date2 = day_of_year(day2, month2, year2)\n",
        "        total_date_by_year.append(rank_of_date2)\n",
        "    else:\n",
        "        rank_of_date1 = day_of_year(day1, month1, year1)\n",
        "        rank_of_date2 = day_of_year(day2, month2, year2)\n",
        "        total_date_by_year.append(rank_of_date2 - rank_of_date1 + 1)\n",
        "    return sum(total_date_by_year)\n",
        "    #print(f\"{date1} to {date2}: {sum(total_date_by_year)}\")\n",
        "print(date_diff(\"1-1-2018\", \"1-1-2020\"))  # ควรได้ 731\n",
        "print(date_diff(\"25-12-1999\", \"9-3-2000\"))  # ควรได้ 76\n",
        "print(date_diff(\"1-1-2000\", \"1-1-2001\"))  # ควรได้ 367 (ปี 2000 เป็น leap year)\n",
        "print(date_diff(\"1-1-2001\", \"1-1-2002\"))  # ควรได้ 366 (ปี 2001 ไม่ใช่ leap year)\n",
        "print(date_diff(\"1-3-2000\", \"1-3-2001\"))  # ควรได้ 367 (ข้ามปี leap year)\n",
        "print(date_diff(\"1-1-2023\", \"31-12-2023\"))  # ควรได้ 365 (ทั้งปี 2023)\n",
        "\n",
        "# ทดสอบกรณีข้อมูลไม่ถูกต้อง\n",
        "print(date_diff(\"31-4-2023\", \"1-5-2023\"))  # ควรได้ -1 (เดือนเมษายนมี 30 วัน)\n",
        "print(date_diff(\"29-2-2023\", \"1-3-2023\"))  # ควรได้ -1 (ปี 2023 ไม่ใช่ leap year)\n",
        "print(date_diff(\"1-13-2023\", \"1-1-2024\"))  # ควรได้ -1 (เดือนไม่ถูกต้อง)\n",
        "print(date_diff(\"abc\", \"1-1-2024\"))  # ควรได้ -1 (รูปแบบวันที่ไม่ถูกต้อง)"
      ],
      "metadata": {
        "id": "OgqrXbFVWEML",
        "colab": {
          "base_uri": "https://localhost:8080/"
        },
        "outputId": "2cce4d33-1d85-41da-946f-da29bcde7a7d"
      },
      "execution_count": null,
      "outputs": [
        {
          "output_type": "stream",
          "name": "stdout",
          "text": [
            "731\n",
            "76\n",
            "367\n",
            "366\n",
            "366\n",
            "365\n",
            "-1\n",
            "-1\n",
            "-1\n",
            "-1\n"
          ]
        }
      ]
    },
    {
      "cell_type": "markdown",
      "source": [
        "1.\tปลาหมอคางดำเพศเมีย 1 ตัว เมื่ออายุครบ 2 เดือน จะสามารถสืบพันธ์ได้ โดยระยะเวลาตั้งท้องจนถึง\n",
        "วางไข่ของตัวเมียจะใช้เวลา 21 วัน และฟักในปากเพศผู้อีก 7 วัน (สามารถรวมเป็น 1 เดือนได้) โดยออกไข่ครั้งละ 300 ฟอง กำหนดให้ไข่ฟักเป็นเพศผู้และเพศเมียอย่างละครึ่ง และเมื่อวางไข่แล้วจะสามารถสืบพันธ์ต่อได้ทันที กำหนดให้ปลามีอายุ 5 ปี และปลาทั้งหมดจะตาย p% ทุก 1 เดือน จงหาว่าปลาหมอคางดำหลุดจากฟาร์ม n ตัวเป็นเพศผู้และเพศเมียอย่างละครึ่ง จงเขียนโปรแกรมรับค่า n และ p ให้แสดงผลจำนวนปลาทุก 3 เดือน เป็นเวลา 10 ปี ให้เขียนเป็นฟังก์ชัน ชื่อ simulate_fish_population()\n"
      ],
      "metadata": {
        "id": "tdBCjJzeWb2c"
      }
    },
    {
      "cell_type": "code",
      "execution_count": null,
      "metadata": {
        "id": "JmvNmVQh4C9X",
        "colab": {
          "base_uri": "https://localhost:8080/"
        },
        "outputId": "4cd3aec0-61a4-4a5f-e4dd-0991f661c2a5"
      },
      "outputs": [
        {
          "output_type": "stream",
          "name": "stdout",
          "text": [
            "state={'month': 1, 'egg': 300, 'child_fish': 0, 'new_fish': 0, 'total_fish': 2, 'reproducable_fish': 2}\n",
            "state={'month': 2, 'egg': 300, 'child_fish': 270.0, 'new_fish': 0, 'total_fish': 272.0, 'reproducable_fish': 2}\n",
            "state={'month': 3, 'egg': 300, 'child_fish': 270.0, 'new_fish': 243.0, 'total_fish': 515.0, 'reproducable_fish': 245.0}\n",
            "state={'month': 4, 'egg': 36600.0, 'child_fish': 270.0, 'new_fish': 243.0, 'total_fish': 758.0, 'reproducable_fish': 488.0}\n",
            "state={'month': 5, 'egg': 73200.0, 'child_fish': 32940.0, 'new_fish': 243.0, 'total_fish': 33671.0, 'reproducable_fish': 731.0}\n",
            "state={'month': 6, 'egg': 109500.0, 'child_fish': 65880.0, 'new_fish': 29646.0, 'total_fish': 96257.0, 'reproducable_fish': 30377.0}\n",
            "state={'month': 7, 'egg': 4556400.0, 'child_fish': 98550.0, 'new_fish': 59292.0, 'total_fish': 188219.0, 'reproducable_fish': 89669.0}\n",
            "state={'month': 8, 'egg': 13450200.0, 'child_fish': 4100760.0, 'new_fish': 88695.0, 'total_fish': 4279124.0, 'reproducable_fish': 178364.0}\n",
            "state={'month': 9, 'egg': 26754600.0, 'child_fish': 12105180.0, 'new_fish': 3690684.0, 'total_fish': 15974228.0, 'reproducable_fish': 3869048.0}\n",
            "state={'month': 10, 'egg': 580357200.0, 'child_fish': 24079140.0, 'new_fish': 10894662.0, 'total_fish': 38842850.0, 'reproducable_fish': 14763710.0}\n",
            "state={'month': 11, 'egg': 2214556500.0, 'child_fish': 522321480.0, 'new_fish': 21671226.0, 'total_fish': 558756416.0, 'reproducable_fish': 36434936.0}\n",
            "state={'month': 12, 'egg': 5465240400.0, 'child_fish': 1993100850.0, 'new_fish': 470089332.0, 'total_fish': 2499625118.0, 'reproducable_fish': 506524268.0}\n",
            "state={'month': 13, 'egg': 75978640200.0, 'child_fish': 4918716360.0, 'new_fish': 1793790765.0, 'total_fish': 7219031393.0, 'reproducable_fish': 2300315033.0}\n",
            "state={'month': 14, 'egg': 345047254800.0, 'child_fish': 68380776180.0, 'new_fish': 4426844724.0, 'total_fish': 75107935937.0, 'reproducable_fish': 6727159757.0}\n",
            "state={'month': 15, 'egg': 1009073963400.0, 'child_fish': 310542529320.0, 'new_fish': 61542698562.0, 'total_fish': 378812387639.0, 'reproducable_fish': 68269858319.0}\n",
            "state={'month': 16, 'egg': 10240478747700.0, 'child_fish': 908166567060.0, 'new_fish': 279488276388.0, 'total_fish': 1255924701767.0, 'reproducable_fish': 347758134707.0}\n",
            "state={'month': 17, 'egg': 52163720205900.0, 'child_fish': 9216430872930.0, 'new_fish': 817349910354.0, 'total_fish': 10381538917991.0, 'reproducable_fish': 1165108045061.0}\n",
            "state={'month': 18, 'egg': 174766206759000.0, 'child_fish': 46947348185310.0, 'new_fish': 8294787785637.0, 'total_fish': 56407244016008.0, 'reproducable_fish': 9459895830698.0}\n",
            "state={'month': 19, 'egg': 1418984374604700.0, 'child_fish': 157289586083100.0, 'new_fish': 42252613366779.0, 'total_fish': 209002095280577.0, 'reproducable_fish': 51712509197477.0}\n",
            "state={'month': 20, 'egg': 7756876379621400.0, 'child_fish': 1277085937144230.0, 'new_fish': 141560627474790.0, 'total_fish': 1470359073816497.0, 'reproducable_fish': 193273136672267.0}\n",
            "state={'month': 21, 'egg': 2.89909705008399e+16, 'child_fish': 6981188741659260.0, 'new_fish': 1149377343429807.0, 'total_fish': 8323839221761334.0, 'reproducable_fish': 1342650480102074.0}\n",
            "state={'month': 22, 'egg': 2.013975720153111e+17, 'child_fish': 2.609187345075591e+16, 'new_fish': 6283069867493334.0, 'total_fish': 3.371759379835132e+16, 'reproducable_fish': 7625720347595408.0}\n",
            "state={'month': 23, 'egg': 1.1438580521393112e+18, 'child_fish': 1.8125781481378e+17, 'new_fish': 2.348268610568032e+16, 'total_fish': 2.1236622126705574e+17, 'reproducable_fish': 3.110840645327573e+16}\n",
            "state={'month': 24, 'egg': 4.66626096799136e+18, 'child_fish': 1.0294722469253801e+18, 'new_fish': 1.63132033332402e+17, 'total_fish': 1.223712686711058e+18, 'reproducable_fish': 1.942404397856777e+17}\n",
            "state={'month': 25, 'egg': 2.9136065967851655e+19, 'child_fish': 4.199634871192224e+18, 'new_fish': 9.265250222328421e+17, 'total_fish': 5.320400333210744e+18, 'reproducable_fish': 1.1207654620185198e+18}\n",
            "state={'month': 26, 'egg': 1.6811481930277798e+20, 'child_fish': 2.622245937106649e+19, 'new_fish': 3.7796713840730015e+18, 'total_fish': 3.1122896217158013e+19, 'reproducable_fish': 4.900436846091521e+18}\n",
            "state={'month': 27, 'egg': 7.350655269137281e+20, 'child_fish': 1.5130333737250016e+20, 'new_fish': 2.360021343395984e+19, 'total_fish': 1.7980398765255154e+20, 'reproducable_fish': 2.8500650280051364e+19}\n",
            "state={'month': 28, 'egg': 4.275097542007705e+21, 'child_fish': 6.615589742223553e+20, 'new_fish': 1.3617300363525015e+20, 'total_fish': 8.262326281376568e+20, 'reproducable_fish': 1.646736539153015e+20}\n",
            "state={'month': 29, 'egg': 2.4701048087295226e+22, 'child_fish': 3.8475877878069346e+21, 'new_fish': 5.954030768001197e+20, 'total_fish': 4.607664518522356e+21, 'reproducable_fish': 7.600767307154213e+20}\n",
            "state={'month': 30, 'egg': 1.1401150960731319e+23, 'child_fish': 2.22309432785657e+22, 'new_fish': 3.462829009026241e+21, 'total_fish': 2.6453849018307365e+22, 'reproducable_fish': 4.222905739741662e+21}\n",
            "state={'month': 31, 'egg': 6.334358609612493e+23, 'child_fish': 1.0261035864658186e+23, 'new_fish': 2.000784895070913e+22, 'total_fish': 1.2684111333703266e+23, 'reproducable_fish': 2.4230754690450793e+22}\n",
            "state={'month': 32, 'egg': 3.634613203567619e+24, 'child_fish': 5.700922748651244e+23, 'new_fish': 9.234932278192369e+22, 'total_fish': 6.866723523374989e+23, 'reproducable_fish': 1.1658007747237448e+23}\n",
            "state={'month': 33, 'egg': 1.7487011620856172e+25, 'child_fish': 3.2711518832108565e+24, 'new_fish': 5.1308304737861196e+23, 'total_fish': 3.900815008061843e+24, 'reproducable_fish': 6.296631248509865e+23}\n",
            "state={'month': 34, 'egg': 9.444946872764797e+25, 'child_fish': 1.5738310458770555e+25, 'new_fish': 2.944036694889771e+24, 'total_fish': 1.9312010278511313e+25, 'reproducable_fish': 3.573699819740758e+24}\n",
            "state={'month': 35, 'egg': 5.360549729611137e+26, 'child_fish': 8.500452185488317e+25, 'new_fish': 1.41644794128935e+25, 'total_fish': 1.0274270108751742e+26, 'reproducable_fish': 1.7738179232634258e+25}\n",
            "state={'month': 36, 'egg': 2.6607268848951387e+27, 'child_fish': 4.824494756650023e+26, 'new_fish': 7.650406966939485e+25, 'total_fish': 5.766917245670314e+26, 'reproducable_fish': 9.42422489020291e+25}\n",
            "state={'month': 37, 'egg': 1.4136337335304364e+28, 'child_fish': 2.394654196405625e+27, 'new_fish': 4.342045280985021e+26, 'total_fish': 2.923100973406156e+27, 'reproducable_fish': 5.284467770005312e+26}\n",
            "state={'month': 38, 'egg': 7.926701655007967e+28, 'child_fish': 1.2722703601773927e+28, 'new_fish': 2.1551887767650625e+27, 'total_fish': 1.5406339155539521e+28, 'reproducable_fish': 2.683635553765594e+27}\n",
            "state={'month': 39, 'egg': 4.025453330648391e+29, 'child_fish': 7.134031489507171e+28, 'new_fish': 1.1450433241596534e+28, 'total_fish': 8.547438369043384e+28, 'reproducable_fish': 1.4134068795362128e+28}\n",
            "state={'month': 40, 'egg': 2.1201103193043193e+30, 'child_fish': 3.622907997583552e+29, 'new_fish': 6.420628340556454e+28, 'total_fish': 4.4063115195928184e+29, 'reproducable_fish': 7.8340352200926666e+28}\n",
            "state={'month': 41, 'egg': 1.1751052830139e+31, 'child_fish': 1.9080992873738875e+30, 'new_fish': 3.2606171978251966e+29, 'total_fish': 2.3125013593573336e+30, 'reproducable_fish': 4.044020719834463e+29}\n",
            "state={'month': 42, 'egg': 6.066031079751694e+31, 'child_fish': 1.05759475471251e+31, 'new_fish': 1.7172893586364987e+30, 'total_fish': 1.2697638977745045e+31, 'reproducable_fish': 2.1216914306199448e+30}\n",
            "state={'month': 43, 'egg': 3.1825371459299173e+32, 'child_fish': 5.459427971776525e+31, 'new_fish': 9.518352792412591e+30, 'total_fish': 6.623432394079778e+31, 'reproducable_fish': 1.1640044223032536e+31}\n",
            "state={'month': 44, 'egg': 1.7460066334548804e+33, 'child_fish': 2.8642834313369254e+32, 'new_fish': 4.913485174598872e+31, 'total_fish': 3.472032391027138e+32, 'reproducable_fish': 6.077489596902125e+31}\n",
            "state={'month': 45, 'egg': 9.116234395353188e+33, 'child_fish': 1.5714059701093925e+33, 'new_fish': 2.5778550882032328e+32, 'total_fish': 1.889966374898737e+33, 'reproducable_fish': 3.1856040478934452e+32}\n",
            "state={'month': 46, 'egg': 4.7784060718401675e+34, 'child_fish': 8.204610955817869e+33, 'new_fish': 1.4142653730984534e+33, 'total_fish': 9.937436733705668e+33, 'reproducable_fish': 1.732825777887798e+33}\n",
            "state={'month': 47, 'egg': 2.599238666831697e+35, 'child_fish': 4.300565464656151e+34, 'new_fish': 7.384149860236083e+33, 'total_fish': 5.212263028468539e+34, 'reproducable_fish': 9.116975638123881e+33}\n",
            "state={'month': 48, 'egg': 1.3675463457185822e+36, 'child_fish': 2.339314800148527e+35, 'new_fish': 3.8705089181905363e+34, 'total_fish': 2.8175354483488196e+35, 'reproducable_fish': 4.782206482002924e+34}\n",
            "state={'month': 49, 'egg': 7.173309723004386e+36, 'child_fish': 1.230791711146724e+36, 'new_fish': 2.1053833201336744e+35, 'total_fish': 1.4891521079801207e+36, 'reproducable_fish': 2.5836039683339668e+35}\n",
            "state={'month': 50, 'egg': 3.87540595250095e+37, 'child_fish': 6.455978750703947e+36, 'new_fish': 1.1077125400320515e+36, 'total_fish': 7.822051687569395e+36, 'reproducable_fish': 1.366072936865448e+36}\n",
            "state={'month': 51, 'egg': 2.049109405298172e+38, 'child_fish': 3.487865357250855e+37, 'new_fish': 5.810380875633552e+36, 'total_fish': 4.205510738500755e+37, 'reproducable_fish': 7.176453812499e+36}\n",
            "state={'month': 52, 'egg': 1.07646807187485e+39, 'child_fish': 1.8441984647683548e+38, 'new_fish': 3.1390788215257695e+37, 'total_fish': 2.2298708850459217e+38, 'reproducable_fish': 3.8567242027756695e+37}\n",
            "state={'month': 53, 'egg': 5.785086304163504e+39, 'child_fish': 9.68821264687365e+38, 'new_fish': 1.6597786182915193e+38, 'total_fish': 1.1733663685442736e+39, 'reproducable_fish': 2.0454510385690863e+38}\n",
            "state={'month': 54, 'egg': 3.0681765578536295e+40, 'child_fish': 5.206577673747153e+39, 'new_fish': 8.719391382186284e+38, 'total_fish': 6.28306191582269e+39, 'reproducable_fish': 1.0764842420755371e+39}\n",
            "state={'month': 55, 'egg': 1.6147263631133056e+41, 'child_fish': 2.7613589020682667e+40, 'new_fish': 4.6859199063724376e+39, 'total_fish': 3.337599316913064e+40, 'reproducable_fish': 5.762404148447975e+39}\n",
            "state={'month': 56, 'egg': 8.643606222671963e+41, 'child_fish': 1.453253726801975e+41, 'new_fish': 2.48522301186144e+40, 'total_fish': 1.7594000694725987e+41, 'reproducable_fish': 3.0614634267062376e+40}\n",
            "state={'month': 57, 'egg': 4.592195140059356e+42, 'child_fish': 7.779245600404766e+41, 'new_fish': 1.3079283541217774e+41, 'total_fish': 9.393320297197168e+41, 'reproducable_fish': 1.6140746967924012e+41}\n",
            "state={'month': 58, 'egg': 2.421112045188602e+43, 'child_fish': 4.1329756260534206e+42, 'new_fish': 7.00132104036429e+41, 'total_fish': 4.99451519976909e+42, 'reproducable_fish': 8.615395737156691e+41}\n",
            "state={'month': 59, 'egg': 1.2923093605735037e+44, 'child_fish': 2.1790008406697417e+43, 'new_fish': 3.719678063448079e+42, 'total_fish': 2.6371226043861167e+43, 'reproducable_fish': 4.581217637163748e+42}\n",
            "state={'month': 60, 'egg': 6.871826455745622e+44, 'child_fish': 1.1630784245161533e+44, 'new_fish': 1.9611007566027675e+43, 'total_fish': 1.4050006765480674e+44, 'reproducable_fish': 2.4192225203191425e+43}\n",
            "state={'month': 61, 'egg': 3.6288337804787137e+45, 'child_fish': 6.18464381017106e+44, 'new_fish': 1.046770582064538e+44, 'total_fish': 7.473336644267513e+44, 'reproducable_fish': 1.2886928340964522e+44}\n",
            "state={'month': 62, 'egg': 1.9330392511446782e+46, 'child_fish': 3.265950402430842e+45, 'new_fish': 5.566179429153954e+44, 'total_fish': 3.9514376287558827e+45, 'reproducable_fish': 6.854872263250406e+44}\n",
            "state={'month': 63, 'egg': 1.028230839487561e+47, 'child_fish': 1.7397353260302103e+46, 'new_fish': 2.939355362187758e+45, 'total_fish': 2.1022195848814902e+46, 'reproducable_fish': 3.624842588512799e+45}\n",
            "state={'month': 64, 'egg': 5.437263882769198e+47, 'child_fish': 9.254077555388049e+46, 'new_fish': 1.5657617934271892e+46, 'total_fish': 1.1182323607666517e+47, 'reproducable_fish': 1.928246052278469e+46}\n",
            "state={'month': 65, 'egg': 2.8923690784177037e+48, 'child_fish': 4.893537494492278e+47, 'new_fish': 8.328669799849244e+46, 'total_fish': 5.91922907970505e+47, 'reproducable_fish': 1.0256915852127712e+47}\n",
            "state={'month': 66, 'egg': 1.538537377819157e+49, 'child_fish': 2.6031321705759334e+48, 'new_fish': 4.404183745043051e+47, 'total_fish': 3.1461197036015155e+48, 'reproducable_fish': 5.429875330255822e+47}\n",
            "state={'month': 67, 'egg': 8.144812995383733e+49, 'child_fish': 1.384683640037241e+49, 'new_fish': 2.34281895351834e+48, 'total_fish': 1.6732642886916333e+49, 'reproducable_fish': 2.8858064865439222e+48}\n",
            "state={'month': 68, 'egg': 4.328709729815883e+50, 'child_fish': 7.33033169584536e+49, 'new_fish': 1.246215276033517e+49, 'total_fish': 8.865127620533269e+49, 'reproducable_fish': 1.534795924687909e+49}\n",
            "state={'month': 69, 'egg': 2.3021938870318637e+51, 'child_fish': 3.895838756834295e+50, 'new_fish': 6.597298526260824e+49, 'total_fish': 4.709048201929168e+50, 'reproducable_fish': 8.132094450948734e+49}\n",
            "state={'month': 70, 'egg': 1.21981416764231e+52, 'child_fish': 2.0719744983286774e+51, 'new_fish': 3.5062548811508656e+50, 'total_fish': 2.5039209309532514e+51, 'reproducable_fish': 4.319464326245739e+50}\n",
            "state={'month': 71, 'egg': 6.479196489368609e+52, 'child_fish': 1.097832750878079e+52, 'new_fish': 1.8647770484958097e+51, 'total_fish': 1.3275050989901175e+52, 'reproducable_fish': 2.2967234811203837e+51}\n",
            "state={'month': 72, 'egg': 3.4450852216805755e+53, 'child_fish': 5.831276840431748e+52, 'new_fish': 9.880494757902711e+51, 'total_fish': 7.048998664334058e+52, 'reproducable_fish': 1.2177218239023095e+52}\n",
            "state={'month': 73, 'egg': 1.826582735853464e+54, 'child_fish': 3.100576699512518e+53, 'new_fish': 5.248149156388573e+52, 'total_fish': 3.7471637975416062e+53, 'reproducable_fish': 6.465870980290883e+52}\n",
            "state={'month': 74, 'egg': 9.698806470436324e+54, 'child_fish': 1.6439244622681178e+54, 'new_fish': 2.790519029561266e+53, 'total_fish': 1.987635075027153e+54, 'reproducable_fish': 3.4371061275903543e+53}\n",
            "state={'month': 75, 'egg': 5.155659191385531e+55, 'child_fish': 8.728925823392692e+54, 'new_fish': 1.479532016041306e+54, 'total_fish': 1.0552168452193035e+55, 'reproducable_fish': 1.8232426288003415e+54}\n",
            "state={'month': 76, 'egg': 2.7348639432005125e+56, 'child_fish': 4.640093272246978e+55, 'new_fish': 7.856033241053423e+54, 'total_fish': 5.608020859232354e+55, 'reproducable_fish': 9.679275869853765e+54}\n",
            "state={'month': 77, 'egg': 1.4518913804780648e+57, 'child_fish': 2.4613775488804614e+56, 'new_fish': 4.17608394502228e+55, 'total_fish': 2.975778702081227e+56, 'reproducable_fish': 5.144011532007656e+55}\n",
            "state={'month': 78, 'egg': 7.716017298011484e+57, 'child_fish': 1.3067022424302582e+57, 'new_fish': 2.215239793992415e+56, 'total_fish': 1.5796663371495763e+57, 'reproducable_fish': 2.7296409471931807e+56}\n",
            "state={'month': 79, 'egg': 4.094461420789771e+58, 'child_fish': 6.944415568210336e+57, 'new_fish': 1.1760320181872323e+57, 'total_fish': 8.393411681116886e+57, 'reproducable_fish': 1.4489961129065504e+57}\n",
            "state={'month': 80, 'egg': 2.1734941693598256e+59, 'child_fish': 3.685015278710794e+58, 'new_fish': 6.249974011389303e+57, 'total_fish': 4.454912291140379e+58, 'reproducable_fish': 7.698970124295854e+57}\n",
            "state={'month': 81, 'egg': 1.154845518644378e+60, 'child_fish': 1.956144752423843e+59, 'new_fish': 3.316513750839715e+58, 'total_fish': 2.364785828750773e+59, 'reproducable_fish': 4.0864107632693e+58}\n",
            "state={'month': 82, 'egg': 6.1296161449039496e+60, 'child_fish': 1.0393609667799403e+60, 'new_fish': 1.7605302771814586e+59, 'total_fish': 1.2562781021307791e+60, 'reproducable_fish': 2.1691713535083887e+59}\n",
            "state={'month': 83, 'egg': 3.253757030262583e+61, 'child_fish': 5.516654530413555e+60, 'new_fish': 9.354248701019462e+59, 'total_fish': 6.668996535866339e+60, 'reproducable_fish': 1.1523420054527851e+60}\n",
            "state={'month': 84, 'egg': 1.7285130081791777e+62, 'child_fish': 2.9283813272363245e+61, 'new_fish': 4.964989077372199e+60, 'total_fish': 3.540114435518823e+61, 'reproducable_fish': 6.1173310828249844e+60}\n",
            "state={'month': 85, 'egg': 9.175996624237477e+62, 'child_fish': 1.55566170736126e+62, 'new_fish': 2.6355431945126923e+61, 'total_fish': 1.880389337640779e+62, 'reproducable_fish': 3.2472763027951907e+61}\n",
            "state={'month': 86, 'egg': 4.870914454192786e+63, 'child_fish': 8.258396961813729e+62, 'new_fish': 1.400095536625134e+62, 'total_fish': 9.983220128718381e+62, 'reproducable_fish': 1.7248231669046531e+62}\n",
            "state={'month': 87, 'egg': 2.5872347503569798e+64, 'child_fish': 4.383823008773507e+63, 'new_fish': 7.432557265632356e+62, 'total_fish': 5.299561052027208e+63, 'reproducable_fish': 9.15738043253701e+62}\n",
            "state={'month': 88, 'egg': 1.3736070648805514e+65, 'child_fish': 2.3285112753212818e+64, 'new_fish': 3.9454407078961564e+63, 'total_fish': 2.814629150436268e+64, 'reproducable_fish': 4.8611787511498575e+63}\n",
            "state={'month': 89, 'egg': 7.291768126724786e+65, 'child_fish': 1.2362463583924961e+65, 'new_fish': 2.0956601477891537e+64, 'total_fish': 1.4944241606829102e+65, 'reproducable_fish': 2.5817780229041395e+64}\n",
            "state={'month': 90, 'egg': 3.872667034356209e+66, 'child_fish': 6.562591314052308e+65, 'new_fish': 1.1126217225532466e+65, 'total_fish': 7.933390838895969e+65, 'reproducable_fish': 1.3707995248436607e+65}\n",
            "state={'month': 91, 'egg': 2.056199287265491e+67, 'child_fish': 3.485400330920588e+66, 'new_fish': 5.906332182647077e+65, 'total_fish': 4.2131135016696615e+66, 'reproducable_fish': 7.277131707490737e+65}\n",
            "state={'month': 92, 'egg': 1.0915697561236106e+68, 'child_fish': 1.850579358538942e+67, 'new_fish': 3.136860297828529e+66, 'total_fish': 2.2370367053967023e+67, 'reproducable_fish': 3.864573468577603e+66}\n",
            "state={'month': 93, 'egg': 5.796860202866404e+68, 'child_fish': 9.824127805112496e+67, 'new_fish': 1.665521422685048e+67, 'total_fish': 1.1876106574655304e+68, 'reproducable_fish': 2.0519787695428082e+67}\n",
            "state={'month': 94, 'egg': 3.077968154314212e+69, 'child_fish': 5.217174182579764e+68, 'new_fish': 8.841715024601246e+67, 'total_fish': 6.306543561994169e+68, 'reproducable_fish': 1.0893693794144055e+68}\n",
            "state={'month': 95, 'egg': 1.6340540691216082e+70, 'child_fish': 2.770171338882791e+69, 'new_fish': 4.695456764321787e+68, 'total_fish': 3.34865395325641e+69, 'reproducable_fish': 5.784826143736192e+68}\n",
            "state={'month': 96, 'egg': 8.677239215604288e+70, 'child_fish': 1.4706486622094474e+70, 'new_fish': 2.493154204994512e+69, 'total_fish': 1.7778123441462605e+70, 'reproducable_fish': 3.071636819368131e+69}\n",
            "state={'month': 97, 'egg': 4.607455229052197e+71, 'child_fish': 7.809515294043858e+70, 'new_fish': 1.3235837959885027e+70, 'total_fish': 9.440262771969175e+70, 'reproducable_fish': 1.6307474779253157e+70}\n",
            "state={'month': 98, 'egg': 2.4461212168879737e+72, 'child_fish': 4.146709706146977e+71, 'new_fish': 7.028563764639473e+70, 'total_fish': 5.012640830403456e+71, 'reproducable_fish': 8.659311242564789e+70}\n",
            "state={'month': 99, 'egg': 1.2988966863847184e+73, 'child_fish': 2.2015090951991765e+72, 'new_fish': 3.7320387355322792e+71, 'total_fish': 2.6613060811780524e+72, 'reproducable_fish': 4.597969859788758e+71}\n",
            "state={'month': 100, 'egg': 6.896954789683136e+73, 'child_fish': 1.1690070177462466e+73, 'new_fish': 1.981358185679259e+72, 'total_fish': 1.41312253491206e+73, 'reproducable_fish': 2.4411551716581348e+72}\n",
            "state={'month': 101, 'egg': 3.661732757487202e+74, 'child_fish': 6.207259310714823e+73, 'new_fish': 1.052106315971622e+73, 'total_fish': 7.503481143852259e+73, 'reproducable_fish': 1.2962218331374355e+73}\n",
            "state={'month': 102, 'egg': 1.9443327497061533e+75, 'child_fish': 3.295559481738482e+74, 'new_fish': 5.586533379643341e+73, 'total_fish': 3.9838350030165595e+74, 'reproducable_fish': 6.882755212780777e+73}\n",
            "state={'month': 103, 'egg': 1.0324132819171165e+76, 'child_fish': 1.749899474735538e+75, 'new_fish': 2.9660035335646337e+74, 'total_fish': 2.1153273802198093e+75, 'reproducable_fish': 3.6542790548427113e+74}\n",
            "state={'month': 104, 'egg': 5.481418582264067e+76, 'child_fish': 9.291719537254048e+75, 'new_fish': 1.5749095272619843e+75, 'total_fish': 1.1232056970000303e+76, 'reproducable_fish': 1.9403374327462553e+75}\n",
            "state={'month': 105, 'egg': 2.910506149119383e+77, 'child_fish': 4.9332767240376604e+76, 'new_fish': 8.362547583528643e+75, 'total_fish': 5.96356522566515e+76, 'reproducable_fish': 1.0302885016274898e+76}\n",
            "state={'month': 106, 'egg': 1.5454327524412348e+78, 'child_fish': 2.619455534207445e+77, 'new_fish': 4.4399490516338944e+76, 'total_fish': 3.166479289533583e+77, 'reproducable_fish': 5.470237553261384e+76}\n",
            "state={'month': 107, 'egg': 8.205356329892077e+78, 'child_fish': 1.3908894771971113e+78, 'new_fish': 2.3575099807867004e+77, 'total_fish': 1.6813428508083953e+78, 'reproducable_fish': 2.904533736112839e+77}\n",
            "state={'month': 108, 'egg': 4.356800604169259e+79, 'child_fish': 7.384820696902869e+78, 'new_fish': 1.2518005294774003e+78, 'total_fish': 8.927074599991553e+78, 'reproducable_fish': 1.5422539030886842e+78}\n",
            "state={'month': 109, 'egg': 2.3133808546330263e+80, 'child_fish': 3.921120543752333e+79, 'new_fish': 6.646338627212582e+78, 'total_fish': 4.739979796782459e+79, 'reproducable_fish': 8.188592530301265e+78}\n",
            "state={'month': 110, 'egg': 1.2282888795451897e+81, 'child_fish': 2.0820427691697237e+80, 'new_fish': 3.5290084893771e+79, 'total_fish': 2.5168295434104463e+80, 'reproducable_fish': 4.347867742407226e+79}\n",
            "state={'month': 111, 'egg': 6.521801613610839e+81, 'child_fish': 1.1054599915906708e+81, 'new_fish': 1.8738384922527513e+80, 'total_fish': 1.3363225182400183e+81, 'reproducable_fish': 2.3086252664934738e+80}\n",
            "state={'month': 112, 'egg': 3.4629378997402106e+82, 'child_fish': 5.869621452249756e+81, 'new_fish': 9.949139924316036e+80, 'total_fish': 7.095397971330707e+81, 'reproducable_fish': 1.2257765190809511e+81}\n",
            "state={'month': 113, 'egg': 1.8386647786214267e+83, 'child_fish': 3.1166441097661894e+82, 'new_fish': 5.28265930702478e+81, 'total_fish': 3.7674876923767626e+82, 'reproducable_fish': 6.508435826105731e+81}\n",
            "state={'month': 114, 'egg': 9.762653739158598e+83, 'child_fish': 1.654798300759284e+83, 'new_fish': 2.8049796987895704e+82, 'total_fish': 2.0003806288992985e+83, 'reproducable_fish': 3.4558232814001436e+82}\n",
            "state={'month': 115, 'egg': 5.183734922100215e+84, 'child_fish': 8.786388365242738e+83, 'new_fish': 1.4893184706833557e+83, 'total_fish': 1.0621289164066107e+84, 'reproducable_fish': 1.83490079882337e+83}\n",
            "state={'month': 116, 'egg': 2.752351198235055e+85, 'child_fish': 4.665361429890194e+84, 'new_fish': 7.907749528718464e+83, 'total_fish': 5.639626462644378e+84, 'reproducable_fish': 9.742650327541834e+83}\n",
            "state={'month': 117, 'egg': 1.461397549131275e+86, 'child_fish': 2.4771160784115497e+85, 'new_fish': 4.198825286901174e+84, 'total_fish': 2.9944251103770857e+85, 'reproducable_fish': 5.173090319655358e+84}\n",
            "state={'month': 118, 'egg': 7.759635479483037e+86, 'child_fish': 1.3152577942181475e+86, 'new_fish': 2.2294044705703946e+85, 'total_fish': 1.5899291444717406e+86, 'reproducable_fish': 2.7467135025359306e+85}\n",
            "state={'month': 119, 'egg': 4.120070253803896e+87, 'child_fish': 6.983671931534733e+86, 'new_fish': 1.1837320147963327e+86, 'total_fish': 8.442075296584659e+86, 'reproducable_fish': 1.4584033650499258e+86}\n",
            "state={'month': 120, 'egg': 2.1876050475748888e+88, 'child_fish': 3.708063228423506e+87, 'new_fish': 6.28530473838126e+86, 'total_fish': 4.482434038766625e+87, 'reproducable_fish': 7.743708103431186e+86}\n"
          ]
        }
      ],
      "source": [
        "def decreas_p_percent(fish_no,p):\n",
        "    return fish_no - (fish_no * p) / 100\n",
        "\n",
        "def get_egg(reproducable_fish):\n",
        "    return (reproducable_fish // 2) * 300\n",
        "\n",
        "def simulate_fish_population(n,p,months=3):\n",
        "    states = []\n",
        "    expired_states = []\n",
        "    for month in range(1, 121):\n",
        "        state = {\n",
        "            \"month\": month,\n",
        "            \"egg\": 0,\n",
        "            \"child_fish\": 0,\n",
        "            \"new_fish\": 0,\n",
        "            \"total_fish\": 0,\n",
        "            \"reproducable_fish\": 0\n",
        "        }\n",
        "\n",
        "        expired_state = {\n",
        "            \"month\": month,\n",
        "            \"dead_fish\": 0.0\n",
        "        }\n",
        "\n",
        "        if month == 1:\n",
        "            state[\"egg\"] = get_egg(reproducable_fish=n)\n",
        "            state[\"child_fish\"] = 0\n",
        "            state[\"new_fish\"] = 0\n",
        "            state[\"reproducable_fish\"] = n\n",
        "            state[\"total_fish\"] = n\n",
        "            states.append(state)\n",
        "            expired_state[\"dead_fish\"] = n\n",
        "            expired_states.append(expired_state)\n",
        "        elif month == 2:\n",
        "            prev_state = states[-1]\n",
        "            state[\"egg\"] = get_egg(reproducable_fish=prev_state[\"reproducable_fish\"])\n",
        "            state[\"child_fish\"] = decreas_p_percent(prev_state[\"egg\"], p=p)\n",
        "            state[\"new_fish\"] = 0\n",
        "            state[\"total_fish\"] = prev_state[\"total_fish\"] + state[\"child_fish\"] + state[\"new_fish\"]\n",
        "            state[\"reproducable_fish\"] = prev_state[\"reproducable_fish\"] + state[\"new_fish\"]\n",
        "            states.append(state)\n",
        "            decrease1 = decreas_p_percent(fish_no=prev_state[\"egg\"], p=p)\n",
        "            decrease2 = decreas_p_percent(fish_no=decrease1, p=p)\n",
        "            expired_state[\"dead_fish\"] = decrease2\n",
        "            expired_states.append(expired_state)\n",
        "        else:\n",
        "            if month < 60:\n",
        "                prev_state = states[-1]\n",
        "                state[\"egg\"] = get_egg(reproducable_fish=prev_state[\"reproducable_fish\"])\n",
        "                state[\"child_fish\"] = decreas_p_percent(prev_state[\"egg\"], p=p)\n",
        "                state[\"new_fish\"] = decreas_p_percent(prev_state[\"child_fish\"], p=p)\n",
        "                state[\"reproducable_fish\"] = prev_state[\"reproducable_fish\"] + state[\"new_fish\"]\n",
        "                state[\"total_fish\"] = state[\"reproducable_fish\"] + state[\"child_fish\"]\n",
        "                states.append(state)\n",
        "\n",
        "                expired_state[\"dead_fish\"] = decreas_p_percent(fish_no=decreas_p_percent(fish_no=prev_state[\"egg\"], p=p), p=p)\n",
        "                expired_states.append(expired_state)\n",
        "            else:\n",
        "                prev_state = states[-1]\n",
        "                dead_state = expired_states[month - 60]\n",
        "                state[\"egg\"] = get_egg(reproducable_fish=prev_state[\"reproducable_fish\"])\n",
        "                state[\"child_fish\"] = decreas_p_percent(prev_state[\"egg\"], p=p)\n",
        "                state[\"new_fish\"] = decreas_p_percent(prev_state[\"child_fish\"], p=p)\n",
        "                state[\"reproducable_fish\"] = prev_state[\"reproducable_fish\"] + state[\"new_fish\"] - dead_state[\"dead_fish\"]\n",
        "                state[\"total_fish\"] = state[\"reproducable_fish\"] + state[\"child_fish\"] - dead_state[\"dead_fish\"]\n",
        "                states.append(state)\n",
        "\n",
        "                expired_state[\"dead_fish\"] = decreas_p_percent(fish_no=decreas_p_percent(fish_no=prev_state[\"egg\"], p=p), p=p)\n",
        "                expired_states.append(expired_state)\n",
        "\n",
        "        print(f\"{state=}\")\n",
        "simulate_fish_population(n=n, p=p)\n",
        "\n",
        "n = 2  # Initial number of fish\n",
        "p = 10  # Monthly mortality rate"
      ]
    },
    {
      "cell_type": "markdown",
      "source": [
        "2.\tให้เขียน function find_mismatch ซึ่งรับ string มา 2 ค่า โดยจะส่งค่ากลับดังนี้\n",
        "- 0 เมื่อ string ทั้ง 2 ตัว เหมือนกัน โดยไม่สนใจ case\n",
        "- 1 เมื่อ string 1 จะเหมือน string 2 โดยการลบและ/หรือเพิ่มตัวอักษรเพียง 1 ตัว\n",
        "- 2 เมื่อ string ไม่เข้าเกณฑ์ 0 หรือ 1\n",
        "\n",
        "\n",
        "| String  1| \tString2\t|ผลลัพธ์|\n",
        "|----------|----------|------|\n",
        "|Python|\tJava\t|2|\n",
        "|book\t |  boot\t|1|\n",
        "|fan\t |  fun\t  |1|\n",
        "|sin\t | sink\t  |1 เพราะเพิ่ม k ใน str2 แล้วจะเหมือนกัน\n",
        "|Dog\t | dog\t  |0\n",
        "|poke\t | spoke\t|1 เพิ่ม s ใน str2 แล้วเหมือนกัน\n",
        "|poker |\tpoke\t|1 ตัด r ใน str1 ออกแล้วเหมือนกัน\n",
        "\n",
        "\n",
        "\n",
        "\n"
      ],
      "metadata": {
        "id": "F0_ZEPOYbDKf"
      }
    },
    {
      "cell_type": "code",
      "source": [
        "def find_mismatch(str1, str2):\n",
        "  if str1 == str2:\n",
        "    return 0\n",
        "  else:\n",
        "        if len(str1) > len(str2):\n",
        "          a = []\n",
        "          for index in range(0,len(str1)):\n",
        "            a.append(str1[:index] + str1[index + 1:])\n",
        "          for word in a:\n",
        "            if word == str2:\n",
        "              return 1\n",
        "          return 2\n",
        "        elif len(str2) > len(str1):\n",
        "            b = []\n",
        "            for index in range(0,len(str2)):\n",
        "              b.append(str2[:index] + str2[index + 1:])\n",
        "            for word in b:\n",
        "              if word == str1:\n",
        "                return 1\n",
        "            return 2\n",
        "        elif len(str1) == len(str2):\n",
        "          c = []\n",
        "          d = []\n",
        "          for index in range(0,len(str1)):\n",
        "            c.append(str1[:index] + str1[index + 1:])\n",
        "            d.append(str2[:index] + str2[index + 1:])\n",
        "          for word in c:\n",
        "            if word in d:\n",
        "              return 1\n",
        "          return 2\n",
        "\n",
        "str1= input(\"\").lower()\n",
        "str2 = input(\"\").lower()\n",
        "check = find_mismatch(str1,str2)\n",
        "print(check)\n",
        "\n",
        "\n",
        "\n"
      ],
      "metadata": {
        "id": "jyVxAb-MXnz2",
        "colab": {
          "base_uri": "https://localhost:8080/"
        },
        "outputId": "1f3983a8-4e8c-4725-fb86-240241594cdc"
      },
      "execution_count": null,
      "outputs": [
        {
          "output_type": "stream",
          "name": "stdout",
          "text": [
            "spoke\n",
            "poke\n",
            "1\n"
          ]
        }
      ]
    },
    {
      "cell_type": "markdown",
      "source": [
        "3.\tจากข้อ 1 ให้เขียนฟังก์ชันชื่อ spelling_correction โดยรับ 2 argument ตัวแรกเป็นประโยค (string) และตัวที่ 2 เป็น list ของคำ (correct_spells) โดยฟังก์ชันนี้มีหน้าที่ตรวจสอบแต่ละ word ใน input string กับคำที่อยู่ใน correct_spells โดยค่าที่คืนกลับมาจะมีดังนี้ (พยายามเรียกใช้ฟังก์ชันในข้อ 1)\n",
        "-\tถ้าคำที่อยู่ในประโยค ตรงกับคำที่อยู่ใน correct_spells ทุกอย่าง ก็จะ copy ไปที่ output string\n",
        "-\tถ้าคำที่อยู่ในประโยค ต่างจากคำที่อยู่ใน correct_spells โดยต่างกัน 1 ตัวอักษร โดยการเปลี่ยน การเพิ่ม หรือการลบ 1 ตัวอักษร คำที่อยู่ในประโยคจะถูกเปลี่ยนโดยคำที่อยู่ใน correct_spells และนำไปใส่ output string\n",
        "-\tถ้าคำที่ไม่พบในเงื่อนไขข้างต้นให้นำคำนั้นไปใส่ output string ได้เลย\n",
        "-\tคำที่ประกอบด้วย 1 หรือ 2 ตัวอักษรจะไม่ตรวจสอบ ให้นำคำนั้นไปใส่ output string ได้เลย\n",
        "-\tถ้ามี 2 คำใน correct_spells ที่ตรงตามเงื่อนไข ให้ใช้คำแรก\n",
        "-\tไม่สนใจตัวใหญ่ ตัวเล็ก\n",
        "-\tInput string จะมีได้เพียงอักษรภาษาอังกฤษเท่านั้น\n",
        "-\tในแต่ละคำจะคั่นด้วย 1 space ถ้ามี space มากกว่านั้นให้ตัดออก และตัด space จากหัวท้ายประโยค\n",
        "\n",
        "|ประโยค\t|correct_spells\t|output string |\n",
        "|-------|---------------|-------------|\n",
        "|Thes is the Firs cas\t|[‘that’,’first’,’case’,’car’]|\tthes is the first car|\n",
        "|programming is fan and easy\t|[‘programming’,’this’,’fun’,’easy’,book’]\t|programming is fun and easy|\n",
        "|Thes is vary essy\t|[‘this’,’is’,’very’,’easy’]\t|this is very easy|\n",
        "|Wee ipve Pythen\t|[‘we’,’live’,’ln’,’Python’]\t|we live python|\n",
        "\n",
        "\n"
      ],
      "metadata": {
        "id": "jzXp83HSbMh9"
      }
    },
    {
      "cell_type": "code",
      "source": [
        "def get_all_removed_char_words(word: str) -> list[str]:\n",
        "    words: list[str] = []\n",
        "    for index in range(0, len(word)):\n",
        "        words.append(word[:index] + word[index + 1:])\n",
        "    words.append(word)\n",
        "    return words\n",
        "\n",
        "\n",
        "def find_mismatch(str1: str, str2: str) -> int:\n",
        "    lower_str1: str = str1.lower()\n",
        "    lower_str2: str = str2.lower()\n",
        "    if lower_str1 == lower_str2:\n",
        "        return 0\n",
        "    else:\n",
        "        str1_words = get_all_removed_char_words(word=lower_str1)\n",
        "        str2_words = get_all_removed_char_words(word=lower_str2)\n",
        "        for word in str1_words:\n",
        "            if word in str2_words:\n",
        "                return 1\n",
        "        return 2\n",
        "\n",
        "\n",
        "def spelling_correction(input_string: str, correct_spells: list[str]) -> str:\n",
        "\n",
        "    lower_input_string: str = input_string.lower()\n",
        "    lower_input_words: list[str] = lower_input_string.split(\" \")\n",
        "\n",
        "\n",
        "    lower_correct_spells: list[str] = [word.lower() for word in correct_spells]\n",
        "\n",
        "    output_string: str = \"\"\n",
        "    for input_word in lower_input_words:\n",
        "        if len(input_word) > 2:\n",
        "            compare_time: int = 0\n",
        "            for output_word in lower_correct_spells:\n",
        "                is_matched: int = find_mismatch(str1=input_word, str2=output_word)\n",
        "                compare_time += 1\n",
        "\n",
        "                if is_matched == 0:\n",
        "                    output_string += f\"{input_word} \"\n",
        "                    break\n",
        "                elif is_matched == 1:\n",
        "                    output_string += f\"{output_word} \"\n",
        "                    break\n",
        "\n",
        "                if compare_time == len(lower_correct_spells):\n",
        "                    output_string += f\"{input_word} \"\n",
        "\n",
        "        else:\n",
        "            output_string += f\"{input_word} \"\n",
        "\n",
        "    return output_string\n",
        "\n",
        "\n",
        "sentence: str = \"Thes is the Firs cas\"\n",
        "correct_spells: list[str] = [\"that\", \"first\", \"case\", \"car\"]\n",
        "spelled_sentence: str = spelling_correction(input_string=sentence, correct_spells=correct_spells)\n",
        "print(spelled_sentence)"
      ],
      "metadata": {
        "id": "4NW0Y1hXpfCt",
        "outputId": "b4a9554a-d77b-4cd4-a064-723eea95fb7a",
        "colab": {
          "base_uri": "https://localhost:8080/"
        }
      },
      "execution_count": null,
      "outputs": [
        {
          "output_type": "stream",
          "name": "stdout",
          "text": [
            "thes is the first case \n"
          ]
        }
      ]
    },
    {
      "cell_type": "markdown",
      "source": [
        "4. ให้เขียนฟังก์ชัน find_word_horizontal ซึ่งจะรับ list ขนาด 2 มิติ ของตัวอักษร (คล้ายกับเกม cross word) และ word ซึ่งเป็น string เป็น argument โดยฟังก์ชันนี้ จะค้นหาตามแถวของ list เพื่อหาตำแหน่งที่มีอักษรตรงกับคำใน word ถ้าพบ จะส่งคืน row index และ column index ของตัวอักษรแรก ถ้าไม่พบจะส่งคืน None\n",
        "\n",
        "```\n",
        "crosswords=[['s','d','o','g'],\n",
        "            ['c','u','c','m'],\n",
        "            ['a','c','a','t'],\n",
        "            ['t',' e','t','k']]\n",
        "\tword='cat'\n",
        "\tfind_word_horizontal(crosswords,word)\n",
        "```\n",
        "\n",
        "Output\n",
        "   [2,1]\n"
      ],
      "metadata": {
        "id": "sshYZJYZpfua"
      }
    },
    {
      "cell_type": "code",
      "source": [
        "def find_word_horizontal(crosswords, word):\n",
        "    for row_index, row in enumerate(crosswords):\n",
        "        row_str = ''.join(row)\n",
        "        col_index = row_str.find(word)\n",
        "        if col_index != -1:\n",
        "            return (row_index, col_index)\n",
        "    return None\n",
        "crosswords = [\n",
        "    ['s', 'd', 'o', 'g'],\n",
        "    ['c', 'u', 'c', 'm'],\n",
        "    ['a', 'c', 'a', 't'],\n",
        "    ['t', 'e', 't', 'k']\n",
        "]\n",
        "word = 'cat'\n",
        "\n",
        "result = find_word_horizontal(crosswords, word)\n",
        "print(result)"
      ],
      "metadata": {
        "id": "2z0nonPMqZ_Q",
        "outputId": "ba95ec40-3c55-4591-9819-6ae2feaf7a98",
        "colab": {
          "base_uri": "https://localhost:8080/"
        }
      },
      "execution_count": null,
      "outputs": [
        {
          "output_type": "stream",
          "name": "stdout",
          "text": [
            "(2, 1)\n"
          ]
        }
      ]
    },
    {
      "cell_type": "markdown",
      "source": [
        "5. ให้เขียนฟังก์ชัน find_word_vertical ซึ่งจะรับ list ขนาด 2 มิติ ของตัวอักษร (คล้ายกับเกม cross word) และ word ซึ่งเป็น string เป็น argument โดยฟังก์ชันนี้ จะค้นหาตามคอลัมน์ของ list เพื่อหาตำแหน่งที่มีอักษรตรงกับคำใน word ถ้าพบ จะส่งคืน row index และ column index ของตัวอักษรแรก ถ้าไม่พบจะส่งคืน None\n",
        "\n",
        "ตัวอย่าง\n",
        "```\n",
        "\tcrosswords=[['s','d','o','g'],\n",
        "              ['c','u','c','m'],\n",
        "              ['a','c','a','t'],\n",
        "              ['t',' e','t','k']]\n",
        "\tword='cat'\n",
        "\tfind_word_vertical(crosswords,word)\n",
        "```\n",
        "\n",
        "Output\n",
        "   [1,0]\n"
      ],
      "metadata": {
        "id": "sDhGHMPsqr6a"
      }
    },
    {
      "cell_type": "code",
      "source": [
        "def find_word_vertical(crosswords, word):\n",
        "    num_rows = len(crosswords)\n",
        "    num_cols = len(crosswords[0]) if num_rows > 0 else 0\n",
        "\n",
        "    for col_index in range(num_cols):\n",
        "        col_str = ''.join(crosswords[row_index][col_index] for row_index in range(num_rows))\n",
        "\n",
        "        row_index = col_str.find(word)\n",
        "        if row_index != -1:\n",
        "            return (row_index, col_index)\n",
        "\n",
        "    return None\n",
        "crosswords = [\n",
        "    ['s', 'd', 'o', 'g'],\n",
        "    ['c', 'u', 'c', 'm'],\n",
        "    ['a', 'c', 'a', 't'],\n",
        "    ['t', 'e', 't', 'k']\n",
        "]\n",
        "word = 'cat'\n",
        "\n",
        "result = find_word_vertical(crosswords, word)\n",
        "print(result)"
      ],
      "metadata": {
        "id": "R5Jp1CkQrEz9",
        "outputId": "21f38cc2-e608-46a7-ea8e-528539df414f",
        "colab": {
          "base_uri": "https://localhost:8080/"
        }
      },
      "execution_count": null,
      "outputs": [
        {
          "output_type": "stream",
          "name": "stdout",
          "text": [
            "(1, 0)\n"
          ]
        }
      ]
    },
    {
      "cell_type": "markdown",
      "source": [
        "6.\tให้เขียนฟังก์ชัน capitalize_word_in_crossword จะรับ list ขนาด 2 มิติ ของตัวอักษร (คล้ายกับเกม cross word) และ word ซึ่งเป็น string เป็น argument โดยฟังก์ชันนี้ จะค้นหาตาม row และ column ของ list เพื่อหาตำแหน่งที่มีอักษรตรงกับคำใน word ถ้าพบจะเปลี่ยนเป็นตัวใหญ่และ และส่งคืน list ที่แก้ไขแล้ว แต่ถ้าไม่เจอจะส่ง list เดิมกลับมา ให้ใช้ฟังก์ชันตามข้อ 3 และ 4 ช่วย\n",
        "\n",
        "```\n",
        "crosswords=[['s','d','o','g'],\n",
        "            ['c','u','c','m'],\n",
        "            ['a','x','a','t'],\n",
        "            ['t','e','t','k']]\n",
        "word='cat'\n",
        "capitalize_word_in_crossword(crosswords,word)\n",
        "```\n",
        "จะส่งค่ากลับ\n",
        "```\n",
        " [['s','d','o','g'],\n",
        "  ['C','u','c','m'],\n",
        "  ['A','x','a','t'],\n",
        "  ['T','e','t','k']]\n",
        "```\n",
        "```\n",
        "crosswords=[['s','d','o','g'],\n",
        "            ['c','u','c','m'],\n",
        "            ['a','c','a','t'],\n",
        "            ['t','e','t','k']]\n",
        "word='cat'\n",
        "capitalize_word_in_crossword(crosswords,word)\n",
        "จะส่งค่ากลับ                   \n",
        "[['s','d','o','g'],\n",
        " ['c','u','c','m'],\n",
        " ['a','C','A','T'],\n",
        " ['t','e','t','k']]\n",
        "```\n",
        "\n",
        "\n"
      ],
      "metadata": {
        "id": "dinoUBQTrDFp"
      }
    },
    {
      "cell_type": "code",
      "source": [
        "def find_word_horizontal(crosswords, word):\n",
        "    for row_index, row in enumerate(crosswords):\n",
        "        row_str = ''.join(row)\n",
        "        col_index = row_str.find(word)\n",
        "        if col_index != -1:\n",
        "            return (row_index, col_index)\n",
        "    return None\n",
        "\n",
        "def find_word_vertical(crosswords, word):\n",
        "    num_rows = len(crosswords)\n",
        "    num_cols = len(crosswords[0]) if num_rows > 0 else 0\n",
        "\n",
        "    for col_index in range(num_cols):\n",
        "        col_str = ''.join(crosswords[row_index][col_index] for row_index in range(num_rows))\n",
        "        row_index = col_str.find(word)\n",
        "        if row_index != -1:\n",
        "            return (row_index, col_index)\n",
        "    return None\n",
        "\n",
        "def capitalize_word_in_crossword(crosswords, word):\n",
        "    original_crosswords = [row[:] for row in crosswords]\n",
        "    horizontal_position = find_word_horizontal(crosswords, word)\n",
        "    if horizontal_position:\n",
        "        row_index, col_index = horizontal_position\n",
        "        for i in range(len(word)):\n",
        "            crosswords[row_index][col_index + i] = crosswords[row_index][col_index + i].upper()\n",
        "\n",
        "    vertical_position = find_word_vertical(crosswords, word)\n",
        "    if vertical_position:\n",
        "        row_index, col_index = vertical_position\n",
        "        for i in range(len(word)):\n",
        "            crosswords[row_index + i][col_index] = crosswords[row_index + i][col_index].upper()\n",
        "\n",
        "    if crosswords == original_crosswords:\n",
        "        return original_crosswords\n",
        "    return crosswords\n",
        "\n",
        "crosswords = [\n",
        "    ['s', 'd', 'o', 'g'],\n",
        "    ['c', 'u', 'c', 'm'],\n",
        "    ['a', 'x', 'a', 't'],\n",
        "    ['t', 'e', 't', 'k']\n",
        "]\n",
        "word = 'cat'\n",
        "\n",
        "result = capitalize_word_in_crossword(crosswords, word)\n",
        "for row in result:\n",
        "    print(row)\n"
      ],
      "metadata": {
        "id": "IM99mZNs0css",
        "outputId": "0f1fcc08-d21c-4b0e-9d6c-c7eb848a80a8",
        "colab": {
          "base_uri": "https://localhost:8080/"
        }
      },
      "execution_count": 20,
      "outputs": [
        {
          "output_type": "stream",
          "name": "stdout",
          "text": [
            "['s', 'd', 'o', 'g']\n",
            "['C', 'u', 'c', 'm']\n",
            "['A', 'x', 'a', 't']\n",
            "['T', 'e', 't', 'k']\n"
          ]
        }
      ]
    }
  ]
}